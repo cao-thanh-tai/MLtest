{
 "cells": [
  {
   "cell_type": "code",
   "execution_count": 23,
   "id": "a2ef9a7d",
   "metadata": {},
   "outputs": [],
   "source": [
    "import pandas as pd\n",
    "import numpy as np\n",
    "\n",
    "X = pd.read_csv('data/train.csv')"
   ]
  },
  {
   "cell_type": "code",
   "execution_count": 24,
   "id": "4476a14f",
   "metadata": {},
   "outputs": [
    {
     "name": "stdout",
     "output_type": "stream",
     "text": [
      "  Anh_sang Tuoi_nuoc_deu Do_am_dat Chat_luong_dat\n",
      "0       Co            Co       Vua            Vua\n",
      "1    Khong            Co      Thap            Vua\n",
      "2       Co         Khong       Vua           Thap\n",
      "3       Co            Co       Cao            Vua\n",
      "4    Khong         Khong      Thap           Thap 0       Co\n",
      "1    Khong\n",
      "2    Khong\n",
      "3       Co\n",
      "4    Khong\n",
      "Name: Phat_trien_tot, dtype: object\n"
     ]
    }
   ],
   "source": [
    "S = X.drop('Phat_trien_tot', axis = 1)\n",
    "y = X['Phat_trien_tot']\n",
    "\n",
    "print(S.head(),y.head())"
   ]
  },
  {
   "cell_type": "code",
   "execution_count": 25,
   "id": "3f39aec1",
   "metadata": {},
   "outputs": [],
   "source": [
    "from src.decision_tree import decision_tree\n",
    "\n",
    "model = decision_tree()\n",
    "\n",
    "model.build(S.to_numpy(),y.to_numpy())"
   ]
  },
  {
   "cell_type": "markdown",
   "id": "cf50673d",
   "metadata": {},
   "source": []
  },
  {
   "cell_type": "code",
   "execution_count": 26,
   "id": "902d2525",
   "metadata": {},
   "outputs": [
    {
     "name": "stdout",
     "output_type": "stream",
     "text": [
      "[['Co' 'Khong' 'Thap' 'Vua']\n",
      " ['Khong' 'Co' 'Vua' 'Cao']\n",
      " ['Co' 'Co' 'Vua' 'Thap']\n",
      " ['Khong' 'Khong' 'Thap' 'Vua']\n",
      " ['Co' 'Khong' 'Thap' 'Vua']\n",
      " ['Co' 'Co' 'Cao' 'Cao']\n",
      " ['Khong' 'Co' 'Thap' 'Vua']]\n",
      "0\n",
      "['Co' 'Khong' 'Thap' 'Vua']\n",
      "Khong\n",
      "1\n",
      "['Khong' 'Co' 'Vua' 'Cao']\n",
      "Co\n",
      "2\n",
      "['Co' 'Co' 'Vua' 'Thap']\n",
      "Co\n",
      "3\n",
      "['Khong' 'Khong' 'Thap' 'Vua']\n",
      "Khong\n",
      "4\n",
      "['Co' 'Khong' 'Thap' 'Vua']\n",
      "Khong\n",
      "5\n",
      "['Co' 'Co' 'Cao' 'Cao']\n",
      "Co\n",
      "6\n",
      "['Khong' 'Co' 'Thap' 'Vua']\n",
      "Khong\n"
     ]
    }
   ],
   "source": [
    "X_test = pd.read_csv('data/test.csv')\n",
    "S_test = X_test.drop('Phat_trien_tot', axis = 1).to_numpy()\n",
    "print(S_test)\n",
    "for i in range(len(S_test[:,0])):\n",
    "    print(i)\n",
    "    print(S_test[i])\n",
    "    print(model.predict(S_test[i]))"
   ]
  },
  {
   "cell_type": "code",
   "execution_count": null,
   "id": "c497685b",
   "metadata": {},
   "outputs": [],
   "source": []
  }
 ],
 "metadata": {
  "kernelspec": {
   "display_name": "Python 3",
   "language": "python",
   "name": "python3"
  },
  "language_info": {
   "codemirror_mode": {
    "name": "ipython",
    "version": 3
   },
   "file_extension": ".py",
   "mimetype": "text/x-python",
   "name": "python",
   "nbconvert_exporter": "python",
   "pygments_lexer": "ipython3",
   "version": "3.10.11"
  }
 },
 "nbformat": 4,
 "nbformat_minor": 5
}
